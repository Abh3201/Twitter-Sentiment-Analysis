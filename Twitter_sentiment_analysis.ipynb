{
  "nbformat": 4,
  "nbformat_minor": 0,
  "metadata": {
    "colab": {
      "name": "Twitter_sentiment_analysis.ipynb",
      "provenance": [],
      "include_colab_link": true
    },
    "kernelspec": {
      "name": "python3",
      "display_name": "Python 3"
    }
  },
  "cells": [
    {
      "cell_type": "markdown",
      "metadata": {
        "id": "view-in-github",
        "colab_type": "text"
      },
      "source": [
        "<a href=\"https://colab.research.google.com/github/Abh3201/Twitter-Sentiment-Analysis/blob/main/Twitter_sentiment_analysis.ipynb\" target=\"_parent\"><img src=\"https://colab.research.google.com/assets/colab-badge.svg\" alt=\"Open In Colab\"/></a>"
      ]
    },
    {
      "cell_type": "code",
      "metadata": {
        "id": "FHMnMbuceT-h"
      },
      "source": [
        "#Description: Twitter Sentiment Analysis using python"
      ],
      "execution_count": null,
      "outputs": []
    },
    {
      "cell_type": "code",
      "metadata": {
        "id": "TGKDfNJyeg__"
      },
      "source": [
        "#import the libraries\n",
        "import tweepy\n",
        "from textblob import TextBlob\n",
        "from wordcloud import WordCloud\n",
        "import pandas as pd\n",
        "import numpy as np\n",
        "import re\n",
        "import matplotlib.pyplot as plt\n",
        "plt.style.use('fivethirtyeight')"
      ],
      "execution_count": null,
      "outputs": []
    },
    {
      "cell_type": "code",
      "metadata": {
        "id": "sxjUsuBTfNP_"
      },
      "source": [
        "# Load the data\n",
        "#from google.colab import files\n",
        "#uploaded = files.upload()\n",
        "#Twitter API Keys\n",
        "#consumerkey = \"mkdtd72tGxBkgntVFMBxFsk\"\n",
        "consumetSecret = \"INSERT_KEY\"\n",
        "accessToken = \"INSERT_KEY\"\n",
        "accessTokenSecret = \"INSERT_KEY\"\n"
      ],
      "execution_count": null,
      "outputs": []
    },
    {
      "cell_type": "code",
      "metadata": {
        "id": "T7RqDpyBfjKs"
      },
      "source": [
        "#Create an authentication object\n",
        "authenticate = tweepy.OAuthHandler(consumerkey, consumetSecret)\n",
        "\n",
        "#Set the acess token and acess token secret\n",
        "authenticate.set_access_token(accessToken, accessTokenSecret)\n",
        "\n",
        "#Create an API abject while passing in the auth information\n",
        "api = tweepy.API(authenticate, wait_on_rate_limit= True)\n",
        "\n"
      ],
      "execution_count": null,
      "outputs": []
    },
    {
      "cell_type": "code",
      "metadata": {
        "colab": {
          "base_uri": "https://localhost:8080/"
        },
        "id": "LnHm0oHwg-Nu",
        "outputId": "043bf839-d3a8-4cf7-e4d3-4578e5178f25"
      },
      "source": [
        "# Extract 100 tweets from the twitter user\n",
        "posts = api.user_timeline(screen_name=\"ElonMusk\", count= 100, lang = \"en\", tweet_mode = \"extended\")\n",
        "\n",
        "i = 1\n",
        "#Print the last 5 tweets from the account\n",
        "print(\"Show the 5 tweets: \\n\")\n",
        "# posts\n",
        "for tweet in posts[0:5]:\n",
        "  print(str(i) + ')' + tweet.full_text + \"\\n\")\n",
        "  i += 1\n"
      ],
      "execution_count": null,
      "outputs": [
        {
          "output_type": "stream",
          "text": [
            "Show the 5 tweets: \n",
            "\n",
            "1)@tesla_adri @WholeMarsBlog These things are best thought of as probabilities. There are 5 forward-facing cameras. It is highly likely that at least one of them will see multiple cars ahead.\n",
            "\n",
            "2)@WholeMarsBlog Sensors are a bitstream and cameras have several orders of magnitude more bits/sec than radar (or lidar). \n",
            "\n",
            "Radar must meaningfully increase signal/noise of bitstream to be worth complexity of integrating it. \n",
            "\n",
            "As vision processing gets better, it just leaves radar far behind.\n",
            "\n",
            "3)@WholeMarsBlog When radar and vision disagree, which one do you believe? Vision has much more precision, so better to double down on vision than do sensor fusion.\n",
            "\n",
            "4)@WholeMarsBlog This is a major problem!\n",
            "\n",
            "5)Just needs some legs\n",
            "\n"
          ],
          "name": "stdout"
        }
      ]
    },
    {
      "cell_type": "code",
      "metadata": {
        "id": "Sr6p6rO-WUsZ",
        "colab": {
          "base_uri": "https://localhost:8080/"
        },
        "outputId": "8ad5073e-1ba6-4aa5-d31b-88be0d39fc4b"
      },
      "source": [
        "for tweet in posts:\n",
        "  print(str(i) + ')' + tweet.full_text + \"\\n\")\n",
        "  i += 1"
      ],
      "execution_count": null,
      "outputs": [
        {
          "output_type": "stream",
          "text": [
            "6)@tesla_adri @WholeMarsBlog These things are best thought of as probabilities. There are 5 forward-facing cameras. It is highly likely that at least one of them will see multiple cars ahead.\n",
            "\n",
            "7)@WholeMarsBlog Sensors are a bitstream and cameras have several orders of magnitude more bits/sec than radar (or lidar). \n",
            "\n",
            "Radar must meaningfully increase signal/noise of bitstream to be worth complexity of integrating it. \n",
            "\n",
            "As vision processing gets better, it just leaves radar far behind.\n",
            "\n",
            "8)@WholeMarsBlog When radar and vision disagree, which one do you believe? Vision has much more precision, so better to double down on vision than do sensor fusion.\n",
            "\n",
            "9)@WholeMarsBlog This is a major problem!\n",
            "\n",
            "10)Just needs some legs\n",
            "\n",
            "11)The Starship launch tower that catches the giant rocket booster is basically Mechazilla\n",
            "\n",
            "12)But wait how is the core of the earth lit by the sun? Stop asking questions!!\n",
            "\n",
            "13)Kong vs Godzilla has record for most meth ever consumed in a writer’s room\n",
            "\n",
            "14)@itsALLrisky 💯\n",
            "\n",
            "15)… going to moon very soon\n",
            "\n",
            "16)@Matsu_Kusarine @jagarikin Actually happened to me in Cyberpunk haha\n",
            "\n",
            "17)@TimBirks1 @Erdayastronaut @SpaceX Pretty much\n",
            "\n",
            "18)@memescryptor !\n",
            "\n",
            "19)Where is Shrek 5!? https://t.co/PqAZ5Mg8Es\n",
            "\n",
            "20)@AustinTeslaClub @OwenSparks_ @WholeMarsBlog Good point. \n",
            "\n",
            "Next major software rev will do much better with automating wipers, seat heating &amp; defrost. \n",
            "\n",
            "Probable seat settings just based on occupant mass distribution should be possible.\n",
            "\n",
            "21)@Adamklotz_ @OwenSparks_ @WholeMarsBlog Yup\n",
            "\n",
            "22)@teslaownersSV @neuralink Turns out 🐒 love video games &amp; snacks just like us!\n",
            "\n",
            "23)It’s all about the cufflinks https://t.co/elccqC0Zuf\n",
            "\n",
            "24)@chicago_glenn I feel like this sometimes\n",
            "\n",
            "25)@OwenSparks_ @WholeMarsBlog It will\n",
            "\n",
            "26)@OwenSparks_ @WholeMarsBlog Remove\n",
            "\n",
            "27)@w00ki33 @SpaceX @SuperclusterHQ Simulation is improving rendering resolution  …\n",
            "\n",
            "28)@cleantechnica Congrats to NIO. That is a tough milestone.\n",
            "\n",
            "29)@WholeMarsBlog Almost ready with FSD Beta V9.0. Step change improvement is massive, especially for weird corner cases &amp; bad weather. Pure vision, no radar.\n",
            "\n",
            "30)Thanks to all that helped SpaceX!\n",
            "\n",
            "31)Just read it. Book is accurate. https://t.co/3bI9Vw8iP1\n",
            "\n",
            "32)@TeslaGong Yeah\n",
            "\n",
            "33)@mikevanbus @TrungTPhan @neuralink Pretty much\n",
            "\n",
            "34)https://t.co/XeQursZpvq\n",
            "\n",
            "35)Soon our monkey will be on twitch &amp; discord haha\n",
            "\n"
          ],
          "name": "stdout"
        }
      ]
    },
    {
      "cell_type": "code",
      "metadata": {
        "colab": {
          "base_uri": "https://localhost:8080/",
          "height": 195
        },
        "id": "Fx9Yf14AlQPV",
        "outputId": "7caa889b-3dd1-4193-dc90-21155ef4dfdb"
      },
      "source": [
        "#Create a dataframe with a column called tweets\n",
        "df = pd.DataFrame([tweet.full_text for tweet in posts], columns = ['Tweets'])\n",
        "\n",
        "#Show the first 5 rows of data\n",
        "df.head()"
      ],
      "execution_count": null,
      "outputs": [
        {
          "output_type": "execute_result",
          "data": {
            "text/html": [
              "<div>\n",
              "<style scoped>\n",
              "    .dataframe tbody tr th:only-of-type {\n",
              "        vertical-align: middle;\n",
              "    }\n",
              "\n",
              "    .dataframe tbody tr th {\n",
              "        vertical-align: top;\n",
              "    }\n",
              "\n",
              "    .dataframe thead th {\n",
              "        text-align: right;\n",
              "    }\n",
              "</style>\n",
              "<table border=\"1\" class=\"dataframe\">\n",
              "  <thead>\n",
              "    <tr style=\"text-align: right;\">\n",
              "      <th></th>\n",
              "      <th>Tweets</th>\n",
              "    </tr>\n",
              "  </thead>\n",
              "  <tbody>\n",
              "    <tr>\n",
              "      <th>0</th>\n",
              "      <td>@tesla_adri @WholeMarsBlog These things are be...</td>\n",
              "    </tr>\n",
              "    <tr>\n",
              "      <th>1</th>\n",
              "      <td>@WholeMarsBlog Sensors are a bitstream and cam...</td>\n",
              "    </tr>\n",
              "    <tr>\n",
              "      <th>2</th>\n",
              "      <td>@WholeMarsBlog When radar and vision disagree,...</td>\n",
              "    </tr>\n",
              "    <tr>\n",
              "      <th>3</th>\n",
              "      <td>@WholeMarsBlog This is a major problem!</td>\n",
              "    </tr>\n",
              "    <tr>\n",
              "      <th>4</th>\n",
              "      <td>Just needs some legs</td>\n",
              "    </tr>\n",
              "  </tbody>\n",
              "</table>\n",
              "</div>"
            ],
            "text/plain": [
              "                                              Tweets\n",
              "0  @tesla_adri @WholeMarsBlog These things are be...\n",
              "1  @WholeMarsBlog Sensors are a bitstream and cam...\n",
              "2  @WholeMarsBlog When radar and vision disagree,...\n",
              "3            @WholeMarsBlog This is a major problem!\n",
              "4                               Just needs some legs"
            ]
          },
          "metadata": {
            "tags": []
          },
          "execution_count": 7
        }
      ]
    },
    {
      "cell_type": "code",
      "metadata": {
        "colab": {
          "base_uri": "https://localhost:8080/",
          "height": 935
        },
        "id": "ta4eOh7BmFeK",
        "outputId": "1a077518-4600-4b96-aeae-0646ae1078c4"
      },
      "source": [
        "#Clean the text\n",
        "\n",
        "#Create a function to clean a text \n",
        "def cleanTxt(text):\n",
        "  text = re.sub(r'@[A-Za-z0-9]+',\"\",text) # Removes @mention\n",
        "  text = re.sub(r'#','',text) #Remove the hashtag Symbol\n",
        "  text = re.sub(r'RT[\\s]+','',text) #Remove ReTweet\n",
        "  text = re.sub(r'https?:\\/\\/\\s+','',text) #Remove hyperLink\n",
        "  return text\n",
        "#Cleaning the text \n",
        "df['Tweets'] = df['Tweets'].apply(cleanTxt)\n",
        "\n",
        "#Show the cleaned Text\n",
        "#del df['Polaruty']\n",
        "df"
      ],
      "execution_count": null,
      "outputs": [
        {
          "output_type": "execute_result",
          "data": {
            "text/html": [
              "<div>\n",
              "<style scoped>\n",
              "    .dataframe tbody tr th:only-of-type {\n",
              "        vertical-align: middle;\n",
              "    }\n",
              "\n",
              "    .dataframe tbody tr th {\n",
              "        vertical-align: top;\n",
              "    }\n",
              "\n",
              "    .dataframe thead th {\n",
              "        text-align: right;\n",
              "    }\n",
              "</style>\n",
              "<table border=\"1\" class=\"dataframe\">\n",
              "  <thead>\n",
              "    <tr style=\"text-align: right;\">\n",
              "      <th></th>\n",
              "      <th>Tweets</th>\n",
              "    </tr>\n",
              "  </thead>\n",
              "  <tbody>\n",
              "    <tr>\n",
              "      <th>0</th>\n",
              "      <td>_adri  These things are best thought of as pro...</td>\n",
              "    </tr>\n",
              "    <tr>\n",
              "      <th>1</th>\n",
              "      <td>Sensors are a bitstream and cameras have seve...</td>\n",
              "    </tr>\n",
              "    <tr>\n",
              "      <th>2</th>\n",
              "      <td>When radar and vision disagree, which one do ...</td>\n",
              "    </tr>\n",
              "    <tr>\n",
              "      <th>3</th>\n",
              "      <td>This is a major problem!</td>\n",
              "    </tr>\n",
              "    <tr>\n",
              "      <th>4</th>\n",
              "      <td>Just needs some legs</td>\n",
              "    </tr>\n",
              "    <tr>\n",
              "      <th>5</th>\n",
              "      <td>The Starship launch tower that catches the gia...</td>\n",
              "    </tr>\n",
              "    <tr>\n",
              "      <th>6</th>\n",
              "      <td>But wait how is the core of the earth lit by t...</td>\n",
              "    </tr>\n",
              "    <tr>\n",
              "      <th>7</th>\n",
              "      <td>Kong vs Godzilla has record for most meth ever...</td>\n",
              "    </tr>\n",
              "    <tr>\n",
              "      <th>8</th>\n",
              "      <td>💯</td>\n",
              "    </tr>\n",
              "    <tr>\n",
              "      <th>9</th>\n",
              "      <td>… going to moon very soon</td>\n",
              "    </tr>\n",
              "    <tr>\n",
              "      <th>10</th>\n",
              "      <td>_Kusarine  Actually happened to me in Cyberpun...</td>\n",
              "    </tr>\n",
              "    <tr>\n",
              "      <th>11</th>\n",
              "      <td>Pretty much</td>\n",
              "    </tr>\n",
              "    <tr>\n",
              "      <th>12</th>\n",
              "      <td>!</td>\n",
              "    </tr>\n",
              "    <tr>\n",
              "      <th>13</th>\n",
              "      <td>Where is Shrek 5!? https://t.co/PqAZ5Mg8Es</td>\n",
              "    </tr>\n",
              "    <tr>\n",
              "      <th>14</th>\n",
              "      <td>_  Good point. \\n\\nNext major software rev wi...</td>\n",
              "    </tr>\n",
              "    <tr>\n",
              "      <th>15</th>\n",
              "      <td>_ _  Yup</td>\n",
              "    </tr>\n",
              "    <tr>\n",
              "      <th>16</th>\n",
              "      <td>Turns out 🐒 love video games &amp;amp; snacks ju...</td>\n",
              "    </tr>\n",
              "    <tr>\n",
              "      <th>17</th>\n",
              "      <td>It’s all about the cufflinks https://t.co/elcc...</td>\n",
              "    </tr>\n",
              "    <tr>\n",
              "      <th>18</th>\n",
              "      <td>_glenn I feel like this sometimes</td>\n",
              "    </tr>\n",
              "    <tr>\n",
              "      <th>19</th>\n",
              "      <td>_  It will</td>\n",
              "    </tr>\n",
              "    <tr>\n",
              "      <th>20</th>\n",
              "      <td>_  Remove</td>\n",
              "    </tr>\n",
              "    <tr>\n",
              "      <th>21</th>\n",
              "      <td>Simulation is improving rendering resolutio...</td>\n",
              "    </tr>\n",
              "    <tr>\n",
              "      <th>22</th>\n",
              "      <td>Congrats to NIO. That is a tough milestone.</td>\n",
              "    </tr>\n",
              "    <tr>\n",
              "      <th>23</th>\n",
              "      <td>Almost ready with FSD Beta V9.0. Step change ...</td>\n",
              "    </tr>\n",
              "    <tr>\n",
              "      <th>24</th>\n",
              "      <td>Thanks to all that helped SpaceX!</td>\n",
              "    </tr>\n",
              "    <tr>\n",
              "      <th>25</th>\n",
              "      <td>Just read it. Book is accurate. https://t.co/3...</td>\n",
              "    </tr>\n",
              "    <tr>\n",
              "      <th>26</th>\n",
              "      <td>Yeah</td>\n",
              "    </tr>\n",
              "    <tr>\n",
              "      <th>27</th>\n",
              "      <td>Pretty much</td>\n",
              "    </tr>\n",
              "    <tr>\n",
              "      <th>28</th>\n",
              "      <td>https://t.co/XeQursZpvq</td>\n",
              "    </tr>\n",
              "    <tr>\n",
              "      <th>29</th>\n",
              "      <td>Soon our monkey will be on twitch &amp;amp; discor...</td>\n",
              "    </tr>\n",
              "  </tbody>\n",
              "</table>\n",
              "</div>"
            ],
            "text/plain": [
              "                                               Tweets\n",
              "0   _adri  These things are best thought of as pro...\n",
              "1    Sensors are a bitstream and cameras have seve...\n",
              "2    When radar and vision disagree, which one do ...\n",
              "3                            This is a major problem!\n",
              "4                                Just needs some legs\n",
              "5   The Starship launch tower that catches the gia...\n",
              "6   But wait how is the core of the earth lit by t...\n",
              "7   Kong vs Godzilla has record for most meth ever...\n",
              "8                                                   💯\n",
              "9                           … going to moon very soon\n",
              "10  _Kusarine  Actually happened to me in Cyberpun...\n",
              "11                                        Pretty much\n",
              "12                                                  !\n",
              "13         Where is Shrek 5!? https://t.co/PqAZ5Mg8Es\n",
              "14   _  Good point. \\n\\nNext major software rev wi...\n",
              "15                                           _ _  Yup\n",
              "16    Turns out 🐒 love video games &amp; snacks ju...\n",
              "17  It’s all about the cufflinks https://t.co/elcc...\n",
              "18                  _glenn I feel like this sometimes\n",
              "19                                         _  It will\n",
              "20                                          _  Remove\n",
              "21     Simulation is improving rendering resolutio...\n",
              "22        Congrats to NIO. That is a tough milestone.\n",
              "23   Almost ready with FSD Beta V9.0. Step change ...\n",
              "24                  Thanks to all that helped SpaceX!\n",
              "25  Just read it. Book is accurate. https://t.co/3...\n",
              "26                                               Yeah\n",
              "27                                        Pretty much\n",
              "28                            https://t.co/XeQursZpvq\n",
              "29  Soon our monkey will be on twitch &amp; discor..."
            ]
          },
          "metadata": {
            "tags": []
          },
          "execution_count": 8
        }
      ]
    },
    {
      "cell_type": "code",
      "metadata": {
        "colab": {
          "base_uri": "https://localhost:8080/",
          "height": 935
        },
        "id": "3Th17F9moO0Q",
        "outputId": "27cf600a-3cd8-458d-f53b-4e0ab1f25038"
      },
      "source": [
        "#Creating a function to get a subjectivity\n",
        "def getSubjectivity(text):\n",
        "  return TextBlob(text).sentiment.subjectivity\n",
        "\n",
        "#Creating a function to get a polarity\n",
        "def getPolarity(text):\n",
        "  return TextBlob(text).sentiment.polarity\n",
        "\n",
        "#Create two new columns\n",
        "df['Subjectivity'] = df['Tweets'].apply(getSubjectivity)\n",
        "df['Polarity'] = df['Tweets'].apply(getPolarity)\n",
        "\n",
        "#Show the new dataframe\n",
        "df"
      ],
      "execution_count": null,
      "outputs": [
        {
          "output_type": "execute_result",
          "data": {
            "text/html": [
              "<div>\n",
              "<style scoped>\n",
              "    .dataframe tbody tr th:only-of-type {\n",
              "        vertical-align: middle;\n",
              "    }\n",
              "\n",
              "    .dataframe tbody tr th {\n",
              "        vertical-align: top;\n",
              "    }\n",
              "\n",
              "    .dataframe thead th {\n",
              "        text-align: right;\n",
              "    }\n",
              "</style>\n",
              "<table border=\"1\" class=\"dataframe\">\n",
              "  <thead>\n",
              "    <tr style=\"text-align: right;\">\n",
              "      <th></th>\n",
              "      <th>Tweets</th>\n",
              "      <th>Subjectivity</th>\n",
              "      <th>Polarity</th>\n",
              "    </tr>\n",
              "  </thead>\n",
              "  <tbody>\n",
              "    <tr>\n",
              "      <th>0</th>\n",
              "      <td>_adri  These things are best thought of as pro...</td>\n",
              "      <td>0.425000</td>\n",
              "      <td>0.175000</td>\n",
              "    </tr>\n",
              "    <tr>\n",
              "      <th>1</th>\n",
              "      <td>Sensors are a bitstream and cameras have seve...</td>\n",
              "      <td>0.471429</td>\n",
              "      <td>0.214286</td>\n",
              "    </tr>\n",
              "    <tr>\n",
              "      <th>2</th>\n",
              "      <td>When radar and vision disagree, which one do ...</td>\n",
              "      <td>0.322222</td>\n",
              "      <td>0.211111</td>\n",
              "    </tr>\n",
              "    <tr>\n",
              "      <th>3</th>\n",
              "      <td>This is a major problem!</td>\n",
              "      <td>0.500000</td>\n",
              "      <td>0.078125</td>\n",
              "    </tr>\n",
              "    <tr>\n",
              "      <th>4</th>\n",
              "      <td>Just needs some legs</td>\n",
              "      <td>0.000000</td>\n",
              "      <td>0.000000</td>\n",
              "    </tr>\n",
              "    <tr>\n",
              "      <th>5</th>\n",
              "      <td>The Starship launch tower that catches the gia...</td>\n",
              "      <td>1.000000</td>\n",
              "      <td>0.000000</td>\n",
              "    </tr>\n",
              "    <tr>\n",
              "      <th>6</th>\n",
              "      <td>But wait how is the core of the earth lit by t...</td>\n",
              "      <td>0.000000</td>\n",
              "      <td>0.000000</td>\n",
              "    </tr>\n",
              "    <tr>\n",
              "      <th>7</th>\n",
              "      <td>Kong vs Godzilla has record for most meth ever...</td>\n",
              "      <td>0.500000</td>\n",
              "      <td>0.500000</td>\n",
              "    </tr>\n",
              "    <tr>\n",
              "      <th>8</th>\n",
              "      <td>💯</td>\n",
              "      <td>0.000000</td>\n",
              "      <td>0.000000</td>\n",
              "    </tr>\n",
              "    <tr>\n",
              "      <th>9</th>\n",
              "      <td>… going to moon very soon</td>\n",
              "      <td>0.300000</td>\n",
              "      <td>0.200000</td>\n",
              "    </tr>\n",
              "    <tr>\n",
              "      <th>10</th>\n",
              "      <td>_Kusarine  Actually happened to me in Cyberpun...</td>\n",
              "      <td>0.200000</td>\n",
              "      <td>0.100000</td>\n",
              "    </tr>\n",
              "    <tr>\n",
              "      <th>11</th>\n",
              "      <td>Pretty much</td>\n",
              "      <td>0.600000</td>\n",
              "      <td>0.225000</td>\n",
              "    </tr>\n",
              "    <tr>\n",
              "      <th>12</th>\n",
              "      <td>!</td>\n",
              "      <td>0.000000</td>\n",
              "      <td>0.000000</td>\n",
              "    </tr>\n",
              "    <tr>\n",
              "      <th>13</th>\n",
              "      <td>Where is Shrek 5!? https://t.co/PqAZ5Mg8Es</td>\n",
              "      <td>0.000000</td>\n",
              "      <td>0.000000</td>\n",
              "    </tr>\n",
              "    <tr>\n",
              "      <th>14</th>\n",
              "      <td>_  Good point. \\n\\nNext major software rev wi...</td>\n",
              "      <td>0.520000</td>\n",
              "      <td>0.252500</td>\n",
              "    </tr>\n",
              "    <tr>\n",
              "      <th>15</th>\n",
              "      <td>_ _  Yup</td>\n",
              "      <td>0.000000</td>\n",
              "      <td>0.000000</td>\n",
              "    </tr>\n",
              "    <tr>\n",
              "      <th>16</th>\n",
              "      <td>Turns out 🐒 love video games &amp;amp; snacks ju...</td>\n",
              "      <td>0.600000</td>\n",
              "      <td>0.625000</td>\n",
              "    </tr>\n",
              "    <tr>\n",
              "      <th>17</th>\n",
              "      <td>It’s all about the cufflinks https://t.co/elcc...</td>\n",
              "      <td>0.000000</td>\n",
              "      <td>0.000000</td>\n",
              "    </tr>\n",
              "    <tr>\n",
              "      <th>18</th>\n",
              "      <td>_glenn I feel like this sometimes</td>\n",
              "      <td>0.000000</td>\n",
              "      <td>0.000000</td>\n",
              "    </tr>\n",
              "    <tr>\n",
              "      <th>19</th>\n",
              "      <td>_  It will</td>\n",
              "      <td>0.000000</td>\n",
              "      <td>0.000000</td>\n",
              "    </tr>\n",
              "    <tr>\n",
              "      <th>20</th>\n",
              "      <td>_  Remove</td>\n",
              "      <td>0.000000</td>\n",
              "      <td>0.000000</td>\n",
              "    </tr>\n",
              "    <tr>\n",
              "      <th>21</th>\n",
              "      <td>Simulation is improving rendering resolutio...</td>\n",
              "      <td>0.000000</td>\n",
              "      <td>0.000000</td>\n",
              "    </tr>\n",
              "    <tr>\n",
              "      <th>22</th>\n",
              "      <td>Congrats to NIO. That is a tough milestone.</td>\n",
              "      <td>0.833333</td>\n",
              "      <td>-0.388889</td>\n",
              "    </tr>\n",
              "    <tr>\n",
              "      <th>23</th>\n",
              "      <td>Almost ready with FSD Beta V9.0. Step change ...</td>\n",
              "      <td>0.777778</td>\n",
              "      <td>-0.130952</td>\n",
              "    </tr>\n",
              "    <tr>\n",
              "      <th>24</th>\n",
              "      <td>Thanks to all that helped SpaceX!</td>\n",
              "      <td>0.200000</td>\n",
              "      <td>0.250000</td>\n",
              "    </tr>\n",
              "    <tr>\n",
              "      <th>25</th>\n",
              "      <td>Just read it. Book is accurate. https://t.co/3...</td>\n",
              "      <td>0.633333</td>\n",
              "      <td>0.400000</td>\n",
              "    </tr>\n",
              "    <tr>\n",
              "      <th>26</th>\n",
              "      <td>Yeah</td>\n",
              "      <td>0.000000</td>\n",
              "      <td>0.000000</td>\n",
              "    </tr>\n",
              "    <tr>\n",
              "      <th>27</th>\n",
              "      <td>Pretty much</td>\n",
              "      <td>0.600000</td>\n",
              "      <td>0.225000</td>\n",
              "    </tr>\n",
              "    <tr>\n",
              "      <th>28</th>\n",
              "      <td>https://t.co/XeQursZpvq</td>\n",
              "      <td>0.000000</td>\n",
              "      <td>0.000000</td>\n",
              "    </tr>\n",
              "    <tr>\n",
              "      <th>29</th>\n",
              "      <td>Soon our monkey will be on twitch &amp;amp; discor...</td>\n",
              "      <td>0.150000</td>\n",
              "      <td>0.075000</td>\n",
              "    </tr>\n",
              "  </tbody>\n",
              "</table>\n",
              "</div>"
            ],
            "text/plain": [
              "                                               Tweets  Subjectivity  Polarity\n",
              "0   _adri  These things are best thought of as pro...      0.425000  0.175000\n",
              "1    Sensors are a bitstream and cameras have seve...      0.471429  0.214286\n",
              "2    When radar and vision disagree, which one do ...      0.322222  0.211111\n",
              "3                            This is a major problem!      0.500000  0.078125\n",
              "4                                Just needs some legs      0.000000  0.000000\n",
              "5   The Starship launch tower that catches the gia...      1.000000  0.000000\n",
              "6   But wait how is the core of the earth lit by t...      0.000000  0.000000\n",
              "7   Kong vs Godzilla has record for most meth ever...      0.500000  0.500000\n",
              "8                                                   💯      0.000000  0.000000\n",
              "9                           … going to moon very soon      0.300000  0.200000\n",
              "10  _Kusarine  Actually happened to me in Cyberpun...      0.200000  0.100000\n",
              "11                                        Pretty much      0.600000  0.225000\n",
              "12                                                  !      0.000000  0.000000\n",
              "13         Where is Shrek 5!? https://t.co/PqAZ5Mg8Es      0.000000  0.000000\n",
              "14   _  Good point. \\n\\nNext major software rev wi...      0.520000  0.252500\n",
              "15                                           _ _  Yup      0.000000  0.000000\n",
              "16    Turns out 🐒 love video games &amp; snacks ju...      0.600000  0.625000\n",
              "17  It’s all about the cufflinks https://t.co/elcc...      0.000000  0.000000\n",
              "18                  _glenn I feel like this sometimes      0.000000  0.000000\n",
              "19                                         _  It will      0.000000  0.000000\n",
              "20                                          _  Remove      0.000000  0.000000\n",
              "21     Simulation is improving rendering resolutio...      0.000000  0.000000\n",
              "22        Congrats to NIO. That is a tough milestone.      0.833333 -0.388889\n",
              "23   Almost ready with FSD Beta V9.0. Step change ...      0.777778 -0.130952\n",
              "24                  Thanks to all that helped SpaceX!      0.200000  0.250000\n",
              "25  Just read it. Book is accurate. https://t.co/3...      0.633333  0.400000\n",
              "26                                               Yeah      0.000000  0.000000\n",
              "27                                        Pretty much      0.600000  0.225000\n",
              "28                            https://t.co/XeQursZpvq      0.000000  0.000000\n",
              "29  Soon our monkey will be on twitch &amp; discor...      0.150000  0.075000"
            ]
          },
          "metadata": {
            "tags": []
          },
          "execution_count": 9
        }
      ]
    },
    {
      "cell_type": "code",
      "metadata": {
        "id": "o5QmbSkgqOnO",
        "colab": {
          "base_uri": "https://localhost:8080/",
          "height": 256
        },
        "outputId": "8d088728-e5b9-4c73-a279-a01ae9023127"
      },
      "source": [
        "#Plot the world Cloud\n",
        "allWords = ' '.join([twts for twts in df['Tweets']] )\n",
        "wordcloud = WordCloud(background_color='white',mode=\"RGB\", width=500 , height=300,random_state = 21, max_font_size = 119).generate(allWords) \n",
        "\n",
        "plt.imshow(wordcloud, interpolation=\"bilinear\")\n",
        "plt.axis('off')\n",
        "plt.show()"
      ],
      "execution_count": null,
      "outputs": [
        {
          "output_type": "display_data",
          "data": {
            "image/png": "[encoded data removed]",
            "text/plain": [
              "<Figure size 432x288 with 1 Axes>"
            ]
          },
          "metadata": {
            "tags": []
          }
        }
      ]
    },
    {
      "cell_type": "code",
      "metadata": {
        "id": "MyZ-eYAKG1Kf",
        "colab": {
          "base_uri": "https://localhost:8080/",
          "height": 935
        },
        "outputId": "65fa5487-9aec-4e51-bf84-d33cdd25eea1"
      },
      "source": [
        "#Create a function to compute the negative,neutral and positive analysis\n",
        "def getAnalysis(score):\n",
        "  if score < 0:\n",
        "    return \"Negative\"\n",
        "  elif score == 0:\n",
        "    return \"Neutral\"\n",
        "  else:\n",
        "    return \"Positive\"\n",
        "df['Analysis'] = df[\"Polarity\"].apply(getAnalysis)\n",
        "\n",
        "#Show Dataframe\n",
        "df"
      ],
      "execution_count": null,
      "outputs": [
        {
          "output_type": "execute_result",
          "data": {
            "text/html": [
              "<div>\n",
              "<style scoped>\n",
              "    .dataframe tbody tr th:only-of-type {\n",
              "        vertical-align: middle;\n",
              "    }\n",
              "\n",
              "    .dataframe tbody tr th {\n",
              "        vertical-align: top;\n",
              "    }\n",
              "\n",
              "    .dataframe thead th {\n",
              "        text-align: right;\n",
              "    }\n",
              "</style>\n",
              "<table border=\"1\" class=\"dataframe\">\n",
              "  <thead>\n",
              "    <tr style=\"text-align: right;\">\n",
              "      <th></th>\n",
              "      <th>Tweets</th>\n",
              "      <th>Subjectivity</th>\n",
              "      <th>Polarity</th>\n",
              "      <th>Analysis</th>\n",
              "    </tr>\n",
              "  </thead>\n",
              "  <tbody>\n",
              "    <tr>\n",
              "      <th>0</th>\n",
              "      <td>_adri  These things are best thought of as pro...</td>\n",
              "      <td>0.425000</td>\n",
              "      <td>0.175000</td>\n",
              "      <td>Positive</td>\n",
              "    </tr>\n",
              "    <tr>\n",
              "      <th>1</th>\n",
              "      <td>Sensors are a bitstream and cameras have seve...</td>\n",
              "      <td>0.471429</td>\n",
              "      <td>0.214286</td>\n",
              "      <td>Positive</td>\n",
              "    </tr>\n",
              "    <tr>\n",
              "      <th>2</th>\n",
              "      <td>When radar and vision disagree, which one do ...</td>\n",
              "      <td>0.322222</td>\n",
              "      <td>0.211111</td>\n",
              "      <td>Positive</td>\n",
              "    </tr>\n",
              "    <tr>\n",
              "      <th>3</th>\n",
              "      <td>This is a major problem!</td>\n",
              "      <td>0.500000</td>\n",
              "      <td>0.078125</td>\n",
              "      <td>Positive</td>\n",
              "    </tr>\n",
              "    <tr>\n",
              "      <th>4</th>\n",
              "      <td>Just needs some legs</td>\n",
              "      <td>0.000000</td>\n",
              "      <td>0.000000</td>\n",
              "      <td>Neutral</td>\n",
              "    </tr>\n",
              "    <tr>\n",
              "      <th>5</th>\n",
              "      <td>The Starship launch tower that catches the gia...</td>\n",
              "      <td>1.000000</td>\n",
              "      <td>0.000000</td>\n",
              "      <td>Neutral</td>\n",
              "    </tr>\n",
              "    <tr>\n",
              "      <th>6</th>\n",
              "      <td>But wait how is the core of the earth lit by t...</td>\n",
              "      <td>0.000000</td>\n",
              "      <td>0.000000</td>\n",
              "      <td>Neutral</td>\n",
              "    </tr>\n",
              "    <tr>\n",
              "      <th>7</th>\n",
              "      <td>Kong vs Godzilla has record for most meth ever...</td>\n",
              "      <td>0.500000</td>\n",
              "      <td>0.500000</td>\n",
              "      <td>Positive</td>\n",
              "    </tr>\n",
              "    <tr>\n",
              "      <th>8</th>\n",
              "      <td>💯</td>\n",
              "      <td>0.000000</td>\n",
              "      <td>0.000000</td>\n",
              "      <td>Neutral</td>\n",
              "    </tr>\n",
              "    <tr>\n",
              "      <th>9</th>\n",
              "      <td>… going to moon very soon</td>\n",
              "      <td>0.300000</td>\n",
              "      <td>0.200000</td>\n",
              "      <td>Positive</td>\n",
              "    </tr>\n",
              "    <tr>\n",
              "      <th>10</th>\n",
              "      <td>_Kusarine  Actually happened to me in Cyberpun...</td>\n",
              "      <td>0.200000</td>\n",
              "      <td>0.100000</td>\n",
              "      <td>Positive</td>\n",
              "    </tr>\n",
              "    <tr>\n",
              "      <th>11</th>\n",
              "      <td>Pretty much</td>\n",
              "      <td>0.600000</td>\n",
              "      <td>0.225000</td>\n",
              "      <td>Positive</td>\n",
              "    </tr>\n",
              "    <tr>\n",
              "      <th>12</th>\n",
              "      <td>!</td>\n",
              "      <td>0.000000</td>\n",
              "      <td>0.000000</td>\n",
              "      <td>Neutral</td>\n",
              "    </tr>\n",
              "    <tr>\n",
              "      <th>13</th>\n",
              "      <td>Where is Shrek 5!? https://t.co/PqAZ5Mg8Es</td>\n",
              "      <td>0.000000</td>\n",
              "      <td>0.000000</td>\n",
              "      <td>Neutral</td>\n",
              "    </tr>\n",
              "    <tr>\n",
              "      <th>14</th>\n",
              "      <td>_  Good point. \\n\\nNext major software rev wi...</td>\n",
              "      <td>0.520000</td>\n",
              "      <td>0.252500</td>\n",
              "      <td>Positive</td>\n",
              "    </tr>\n",
              "    <tr>\n",
              "      <th>15</th>\n",
              "      <td>_ _  Yup</td>\n",
              "      <td>0.000000</td>\n",
              "      <td>0.000000</td>\n",
              "      <td>Neutral</td>\n",
              "    </tr>\n",
              "    <tr>\n",
              "      <th>16</th>\n",
              "      <td>Turns out 🐒 love video games &amp;amp; snacks ju...</td>\n",
              "      <td>0.600000</td>\n",
              "      <td>0.625000</td>\n",
              "      <td>Positive</td>\n",
              "    </tr>\n",
              "    <tr>\n",
              "      <th>17</th>\n",
              "      <td>It’s all about the cufflinks https://t.co/elcc...</td>\n",
              "      <td>0.000000</td>\n",
              "      <td>0.000000</td>\n",
              "      <td>Neutral</td>\n",
              "    </tr>\n",
              "    <tr>\n",
              "      <th>18</th>\n",
              "      <td>_glenn I feel like this sometimes</td>\n",
              "      <td>0.000000</td>\n",
              "      <td>0.000000</td>\n",
              "      <td>Neutral</td>\n",
              "    </tr>\n",
              "    <tr>\n",
              "      <th>19</th>\n",
              "      <td>_  It will</td>\n",
              "      <td>0.000000</td>\n",
              "      <td>0.000000</td>\n",
              "      <td>Neutral</td>\n",
              "    </tr>\n",
              "    <tr>\n",
              "      <th>20</th>\n",
              "      <td>_  Remove</td>\n",
              "      <td>0.000000</td>\n",
              "      <td>0.000000</td>\n",
              "      <td>Neutral</td>\n",
              "    </tr>\n",
              "    <tr>\n",
              "      <th>21</th>\n",
              "      <td>Simulation is improving rendering resolutio...</td>\n",
              "      <td>0.000000</td>\n",
              "      <td>0.000000</td>\n",
              "      <td>Neutral</td>\n",
              "    </tr>\n",
              "    <tr>\n",
              "      <th>22</th>\n",
              "      <td>Congrats to NIO. That is a tough milestone.</td>\n",
              "      <td>0.833333</td>\n",
              "      <td>-0.388889</td>\n",
              "      <td>Negative</td>\n",
              "    </tr>\n",
              "    <tr>\n",
              "      <th>23</th>\n",
              "      <td>Almost ready with FSD Beta V9.0. Step change ...</td>\n",
              "      <td>0.777778</td>\n",
              "      <td>-0.130952</td>\n",
              "      <td>Negative</td>\n",
              "    </tr>\n",
              "    <tr>\n",
              "      <th>24</th>\n",
              "      <td>Thanks to all that helped SpaceX!</td>\n",
              "      <td>0.200000</td>\n",
              "      <td>0.250000</td>\n",
              "      <td>Positive</td>\n",
              "    </tr>\n",
              "    <tr>\n",
              "      <th>25</th>\n",
              "      <td>Just read it. Book is accurate. https://t.co/3...</td>\n",
              "      <td>0.633333</td>\n",
              "      <td>0.400000</td>\n",
              "      <td>Positive</td>\n",
              "    </tr>\n",
              "    <tr>\n",
              "      <th>26</th>\n",
              "      <td>Yeah</td>\n",
              "      <td>0.000000</td>\n",
              "      <td>0.000000</td>\n",
              "      <td>Neutral</td>\n",
              "    </tr>\n",
              "    <tr>\n",
              "      <th>27</th>\n",
              "      <td>Pretty much</td>\n",
              "      <td>0.600000</td>\n",
              "      <td>0.225000</td>\n",
              "      <td>Positive</td>\n",
              "    </tr>\n",
              "    <tr>\n",
              "      <th>28</th>\n",
              "      <td>https://t.co/XeQursZpvq</td>\n",
              "      <td>0.000000</td>\n",
              "      <td>0.000000</td>\n",
              "      <td>Neutral</td>\n",
              "    </tr>\n",
              "    <tr>\n",
              "      <th>29</th>\n",
              "      <td>Soon our monkey will be on twitch &amp;amp; discor...</td>\n",
              "      <td>0.150000</td>\n",
              "      <td>0.075000</td>\n",
              "      <td>Positive</td>\n",
              "    </tr>\n",
              "  </tbody>\n",
              "</table>\n",
              "</div>"
            ],
            "text/plain": [
              "                                               Tweets  ...  Analysis\n",
              "0   _adri  These things are best thought of as pro...  ...  Positive\n",
              "1    Sensors are a bitstream and cameras have seve...  ...  Positive\n",
              "2    When radar and vision disagree, which one do ...  ...  Positive\n",
              "3                            This is a major problem!  ...  Positive\n",
              "4                                Just needs some legs  ...   Neutral\n",
              "5   The Starship launch tower that catches the gia...  ...   Neutral\n",
              "6   But wait how is the core of the earth lit by t...  ...   Neutral\n",
              "7   Kong vs Godzilla has record for most meth ever...  ...  Positive\n",
              "8                                                   💯  ...   Neutral\n",
              "9                           … going to moon very soon  ...  Positive\n",
              "10  _Kusarine  Actually happened to me in Cyberpun...  ...  Positive\n",
              "11                                        Pretty much  ...  Positive\n",
              "12                                                  !  ...   Neutral\n",
              "13         Where is Shrek 5!? https://t.co/PqAZ5Mg8Es  ...   Neutral\n",
              "14   _  Good point. \\n\\nNext major software rev wi...  ...  Positive\n",
              "15                                           _ _  Yup  ...   Neutral\n",
              "16    Turns out 🐒 love video games &amp; snacks ju...  ...  Positive\n",
              "17  It’s all about the cufflinks https://t.co/elcc...  ...   Neutral\n",
              "18                  _glenn I feel like this sometimes  ...   Neutral\n",
              "19                                         _  It will  ...   Neutral\n",
              "20                                          _  Remove  ...   Neutral\n",
              "21     Simulation is improving rendering resolutio...  ...   Neutral\n",
              "22        Congrats to NIO. That is a tough milestone.  ...  Negative\n",
              "23   Almost ready with FSD Beta V9.0. Step change ...  ...  Negative\n",
              "24                  Thanks to all that helped SpaceX!  ...  Positive\n",
              "25  Just read it. Book is accurate. https://t.co/3...  ...  Positive\n",
              "26                                               Yeah  ...   Neutral\n",
              "27                                        Pretty much  ...  Positive\n",
              "28                            https://t.co/XeQursZpvq  ...   Neutral\n",
              "29  Soon our monkey will be on twitch &amp; discor...  ...  Positive\n",
              "\n",
              "[30 rows x 4 columns]"
            ]
          },
          "metadata": {
            "tags": []
          },
          "execution_count": 11
        }
      ]
    },
    {
      "cell_type": "code",
      "metadata": {
        "colab": {
          "base_uri": "https://localhost:8080/"
        },
        "id": "LgYtMhBefySZ",
        "outputId": "455b568b-9b48-49e1-9f7b-7e5505a3e96c"
      },
      "source": [
        "#Print all of the positive tweets\n",
        "j = 1\n",
        "sortedDF = df.sort_values(by=[\"Polarity\"])\n",
        "for i in range(0,sortedDF.shape[0]):\n",
        "  if (sortedDF[\"Analysis\"][i] == 'Positive'):\n",
        "    print(str(j)+\") \"+sortedDF[\"Tweets\"][i])\n",
        "    print()\n",
        "    j = j+1"
      ],
      "execution_count": null,
      "outputs": [
        {
          "output_type": "stream",
          "text": [
            "1) _adri  These things are best thought of as probabilities. There are 5 forward-facing cameras. It is highly likely that at least one of them will see multiple cars ahead.\n",
            "\n",
            "2)  Sensors are a bitstream and cameras have several orders of magnitude more bits/sec than radar (or lidar). \n",
            "\n",
            "Radar must meaningfully increase signal/noise of bitstream to be worth complexity of integrating it. \n",
            "\n",
            "As vision processing gets better, it just leaves radar far behind.\n",
            "\n",
            "3)  When radar and vision disagree, which one do you believe? Vision has much more precision, so better to double down on vision than do sensor fusion.\n",
            "\n",
            "4)  This is a major problem!\n",
            "\n",
            "5) Kong vs Godzilla has record for most meth ever consumed in a writer’s room\n",
            "\n",
            "6) … going to moon very soon\n",
            "\n",
            "7) _Kusarine  Actually happened to me in Cyberpunk haha\n",
            "\n",
            "8)    Pretty much\n",
            "\n",
            "9)  _  Good point. \n",
            "\n",
            "Next major software rev will do much better with automating wipers, seat heating &amp; defrost. \n",
            "\n",
            "Probable seat settings just based on occupant mass distribution should be possible.\n",
            "\n",
            "10)   Turns out 🐒 love video games &amp; snacks just like us!\n",
            "\n",
            "11) Thanks to all that helped SpaceX!\n",
            "\n",
            "12) Just read it. Book is accurate. https://t.co/3bI9Vw8iP1\n",
            "\n",
            "13)    Pretty much\n",
            "\n",
            "14) Soon our monkey will be on twitch &amp; discord haha\n",
            "\n"
          ],
          "name": "stdout"
        }
      ]
    },
    {
      "cell_type": "code",
      "metadata": {
        "colab": {
          "base_uri": "https://localhost:8080/"
        },
        "id": "nYeYgRqshw19",
        "outputId": "54e645fe-ae4a-4ba6-d60b-3e7539a3c5b8"
      },
      "source": [
        "#Print the Negative tweets\n",
        "j = 1\n",
        "sortedDF = df.sort_values(by=[\"Polarity\"], ascending='False')\n",
        "for i in range(0,sortedDF.shape[0]):\n",
        "  if (sortedDF[\"Analysis\"][i] == 'Negative'):\n",
        "    print(str(j)+\") \"+sortedDF[\"Tweets\"][i])\n",
        "    print()\n",
        "    j = j+1"
      ],
      "execution_count": null,
      "outputs": [
        {
          "output_type": "stream",
          "text": [
            "1)  Congrats to NIO. That is a tough milestone.\n",
            "\n",
            "2)  Almost ready with FSD Beta V9.0. Step change improvement is massive, especially for weird corner cases &amp; bad weather. Pure vision, no radar.\n",
            "\n"
          ],
          "name": "stdout"
        }
      ]
    },
    {
      "cell_type": "code",
      "metadata": {
        "colab": {
          "base_uri": "https://localhost:8080/",
          "height": 441
        },
        "id": "1OG505laimqw",
        "outputId": "1c3ae169-6783-401e-8ce5-65202694c491"
      },
      "source": [
        "#Plot the Polarity and Subjectivity\n",
        "plt.figure(figsize=(8,6))\n",
        "for i in range(0, df.shape[0]):\n",
        "  plt.scatter(df['Polarity'][i],df['Subjectivity'][i],color='blue')\n",
        "plt.title(\"Sentiment Analysis\")\n",
        "plt.xlabel('Ploarity')\n",
        "plt.ylabel('Subjectivity')\n",
        "plt.show()"
      ],
      "execution_count": null,
      "outputs": [
        {
          "output_type": "display_data",
          "data": {
            "image/png": "[encoded data removed]",
            "text/plain": [
              "<Figure size 576x432 with 1 Axes>"
            ]
          },
          "metadata": {
            "tags": []
          }
        }
      ]
    },
    {
      "cell_type": "code",
      "metadata": {
        "id": "Grg7Jp3WUAie"
      },
      "source": [
        "#Tweets Last Month\n"
      ],
      "execution_count": null,
      "outputs": []
    },
    {
      "cell_type": "code",
      "metadata": {
        "colab": {
          "base_uri": "https://localhost:8080/"
        },
        "id": "d0Gx1XcJjeX-",
        "outputId": "fff4d79f-6354-470c-b128-772f2948f337"
      },
      "source": [
        "#Get the percentage of positive tweets\n",
        "ptweets = df[df.Analysis == \"Positive\"]\n",
        "ptweets = ptweets['Tweets']\n",
        "\n",
        "round((ptweets.shape[0]/df.shape[0])*100,1)\n"
      ],
      "execution_count": null,
      "outputs": [
        {
          "output_type": "execute_result",
          "data": {
            "text/plain": [
              "46.7"
            ]
          },
          "metadata": {
            "tags": []
          },
          "execution_count": 15
        }
      ]
    },
    {
      "cell_type": "code",
      "metadata": {
        "colab": {
          "base_uri": "https://localhost:8080/"
        },
        "id": "ScpjdnrvkTaf",
        "outputId": "499eae0a-23e3-4c54-b315-2fdca0d75a8e"
      },
      "source": [
        "#Get the percentage of Negative tweets\n",
        "ntweets = df[df.Analysis == \"Negative\"]\n",
        "ntweets = ntweets['Tweets']\n",
        "\n",
        "round((ntweets.shape[0]/df.shape[0])*100,1)"
      ],
      "execution_count": null,
      "outputs": [
        {
          "output_type": "execute_result",
          "data": {
            "text/plain": [
              "6.7"
            ]
          },
          "metadata": {
            "tags": []
          },
          "execution_count": 16
        }
      ]
    },
    {
      "cell_type": "code",
      "metadata": {
        "colab": {
          "base_uri": "https://localhost:8080/"
        },
        "id": "oXyd4A3pkep8",
        "outputId": "e6c80990-a71c-485d-f279-3173b3f485ec"
      },
      "source": [
        "#Get the percentage of Neutral tweets\n",
        "neutweets = df[df.Analysis == \"Neutral\"]\n",
        "neutweets = neutweets['Tweets']\n",
        "\n",
        "round((neutweets.shape[0]/df.shape[0])*100,1)"
      ],
      "execution_count": null,
      "outputs": [
        {
          "output_type": "execute_result",
          "data": {
            "text/plain": [
              "51.0"
            ]
          },
          "metadata": {
            "tags": []
          },
          "execution_count": 87
        }
      ]
    },
    {
      "cell_type": "code",
      "metadata": {
        "colab": {
          "base_uri": "https://localhost:8080/",
          "height": 374
        },
        "id": "dtNCzfxakxfo",
        "outputId": "6ca72dd4-6771-437f-e5fe-677c8a4b54a1"
      },
      "source": [
        "#Show the value Counts\n",
        "df['Analysis'].value_counts()\n",
        "\n",
        "#plot and visualize the counts\n",
        "plt.title('Sentiment Analysis')\n",
        "plt.xlabel('Sentiment')\n",
        "plt.ylabel(\"Counts\")\n",
        "df['Analysis'].value_counts().plot(kind = \"bar\")\n",
        "plt.show()"
      ],
      "execution_count": null,
      "outputs": [
        {
          "output_type": "display_data",
          "data": {
            "image/png": "[encoded data removed]",
            "text/plain": [
              "<Figure size 432x288 with 1 Axes>"
            ]
          },
          "metadata": {
            "tags": []
          }
        }
      ]
    }
  ]
}